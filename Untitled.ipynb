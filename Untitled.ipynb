{
 "cells": [
  {
   "cell_type": "code",
   "execution_count": 22,
   "metadata": {},
   "outputs": [
    {
     "name": "stdout",
     "output_type": "stream",
     "text": [
      "Welcome to SuperLot! These are the spaces currently available: [1, 2, 3, 4, 5, 6, 7, 8, 9, 10]\n",
      "Would you like to get a ticket, pay, or leave?ticket\n"
     ]
    },
    {
     "ename": "IndexError",
     "evalue": "list index out of range",
     "output_type": "error",
     "traceback": [
      "\u001b[0;31m---------------------------------------------------------------------------\u001b[0m",
      "\u001b[0;31mIndexError\u001b[0m                                Traceback (most recent call last)",
      "\u001b[0;32m<ipython-input-22-2ac2000ea5b4>\u001b[0m in \u001b[0;36m<module>\u001b[0;34m\u001b[0m\n\u001b[1;32m     65\u001b[0m \u001b[0;34m\u001b[0m\u001b[0m\n\u001b[1;32m     66\u001b[0m \u001b[0mtesting\u001b[0m \u001b[0;34m=\u001b[0m \u001b[0mmain\u001b[0m\u001b[0;34m(\u001b[0m\u001b[0;34m)\u001b[0m\u001b[0;34m\u001b[0m\u001b[0;34m\u001b[0m\u001b[0m\n\u001b[0;32m---> 67\u001b[0;31m \u001b[0mtesting\u001b[0m\u001b[0;34m.\u001b[0m\u001b[0mrun\u001b[0m\u001b[0;34m(\u001b[0m\u001b[0;34m)\u001b[0m\u001b[0;34m\u001b[0m\u001b[0;34m\u001b[0m\u001b[0m\n\u001b[0m\u001b[1;32m     68\u001b[0m \u001b[0;34m\u001b[0m\u001b[0m\n",
      "\u001b[0;32m<ipython-input-22-2ac2000ea5b4>\u001b[0m in \u001b[0;36mrun\u001b[0;34m(self)\u001b[0m\n\u001b[1;32m     52\u001b[0m             \u001b[0;32mif\u001b[0m \u001b[0mchoice\u001b[0m \u001b[0;34m==\u001b[0m \u001b[0;34m\"ticket\"\u001b[0m\u001b[0;34m:\u001b[0m\u001b[0;34m\u001b[0m\u001b[0;34m\u001b[0m\u001b[0m\n\u001b[1;32m     53\u001b[0m                 \u001b[0mmygarage\u001b[0m \u001b[0;34m=\u001b[0m \u001b[0mGarage\u001b[0m\u001b[0;34m(\u001b[0m\u001b[0;34m)\u001b[0m\u001b[0;34m\u001b[0m\u001b[0;34m\u001b[0m\u001b[0m\n\u001b[0;32m---> 54\u001b[0;31m                 \u001b[0mmygarage\u001b[0m\u001b[0;34m.\u001b[0m\u001b[0mtakeTicket\u001b[0m\u001b[0;34m(\u001b[0m\u001b[0;34m)\u001b[0m\u001b[0;34m\u001b[0m\u001b[0;34m\u001b[0m\u001b[0m\n\u001b[0m\u001b[1;32m     55\u001b[0m \u001b[0;34m\u001b[0m\u001b[0m\n\u001b[1;32m     56\u001b[0m             \u001b[0;32melif\u001b[0m \u001b[0mchoice\u001b[0m \u001b[0;34m==\u001b[0m \u001b[0;34m\"pay\"\u001b[0m\u001b[0;34m:\u001b[0m\u001b[0;34m\u001b[0m\u001b[0;34m\u001b[0m\u001b[0m\n",
      "\u001b[0;32m<ipython-input-22-2ac2000ea5b4>\u001b[0m in \u001b[0;36mtakeTicket\u001b[0;34m(self)\u001b[0m\n\u001b[1;32m     19\u001b[0m         \u001b[0;32mfor\u001b[0m \u001b[0mi\u001b[0m \u001b[0;32min\u001b[0m \u001b[0mrange\u001b[0m\u001b[0;34m(\u001b[0m\u001b[0mlen\u001b[0m\u001b[0;34m(\u001b[0m\u001b[0mself\u001b[0m\u001b[0;34m.\u001b[0m\u001b[0mticket\u001b[0m\u001b[0;34m)\u001b[0m\u001b[0;34m)\u001b[0m\u001b[0;34m:\u001b[0m\u001b[0;34m\u001b[0m\u001b[0;34m\u001b[0m\u001b[0m\n\u001b[1;32m     20\u001b[0m             \u001b[0;32mdel\u001b[0m \u001b[0mself\u001b[0m\u001b[0;34m.\u001b[0m\u001b[0mticket\u001b[0m\u001b[0;34m[\u001b[0m\u001b[0;36m0\u001b[0m\u001b[0;34m]\u001b[0m\u001b[0;34m\u001b[0m\u001b[0;34m\u001b[0m\u001b[0m\n\u001b[0;32m---> 21\u001b[0;31m         \u001b[0;32mreturn\u001b[0m \u001b[0mprint\u001b[0m\u001b[0;34m(\u001b[0m\u001b[0;34mf'Your ticket is ticket {self.ticket[0]}! Please park safely!'\u001b[0m\u001b[0;34m)\u001b[0m\u001b[0;34m\u001b[0m\u001b[0;34m\u001b[0m\u001b[0m\n\u001b[0m\u001b[1;32m     22\u001b[0m \u001b[0;34m\u001b[0m\u001b[0m\n\u001b[1;32m     23\u001b[0m         \u001b[0;31m#decrease the amount of spaces available by 1\u001b[0m\u001b[0;34m\u001b[0m\u001b[0;34m\u001b[0m\u001b[0;34m\u001b[0m\u001b[0m\n",
      "\u001b[0;31mIndexError\u001b[0m: list index out of range"
     ]
    }
   ],
   "source": [
    "from IPython.display import clear_output\n",
    "\n",
    "class Parking:\n",
    "    def __init__(self):\n",
    "        self.spaces = [1, 2, 3, 4, 5, 6, 7, 8, 9, 10]\n",
    "    \n",
    "    def show(self):\n",
    "        print(f'Welcome to SuperLot! These are the spaces currently available: {self.spaces}')\n",
    "\n",
    "\n",
    "class Garage:\n",
    "\n",
    "    def __init__(self):\n",
    "        self.ticket = [1, 2, 3, 4, 5, 6, 7, 8, 9, 10]\n",
    "        self.spaces = []\n",
    "\n",
    "    def takeTicket(self):\n",
    "        #decrease the tickets available by 1\n",
    "        for i in range(len(self.ticket)):\n",
    "            del self.ticket[0]\n",
    "        return print(f'Your ticket is ticket {self.ticket[0]}! Please park safely!')\n",
    "\n",
    "        #decrease the amount of spaces available by 1\n",
    "        pass\n",
    "\n",
    "    #should update currentTicket dictionary\n",
    "    def payForParking(self, user_input):\n",
    "        self.user_input = 6\n",
    "        if user_input == True:\n",
    "            print('Your ticket has been paid! Please leave within 15 minutes')\n",
    "            #???\n",
    "        pass\n",
    "\n",
    "    def leaveGarage(self):\n",
    "    #if ticket paid in full or currentTicket is true(must call ticket)\n",
    "        if currentTicket == True:\n",
    "            print (\"Thank you, have nice day!\")\n",
    "        else:\n",
    "            payForParking()\n",
    "            #increase by one\n",
    "        pass\n",
    "\n",
    "\n",
    "class main:\n",
    "\n",
    "    def run(self):\n",
    "        myparking = Parking()\n",
    "        while True:\n",
    "            myparking.show()\n",
    "            choice = input(\"Would you like to get a ticket, pay, or leave?\").lower()\n",
    "            \n",
    "            if choice == \"ticket\":\n",
    "                mygarage = Garage()\n",
    "                mygarage.takeTicket()\n",
    "\n",
    "            elif choice == \"pay\":\n",
    "                pass\n",
    "            elif choice == \"leave\":\n",
    "                pass\n",
    "            else:\n",
    "                \"invalid responce\"\n",
    "            clear_output()\n",
    "            user_input = True\n",
    "            \n",
    "\n",
    "testing = main()\n",
    "testing.run()\n",
    "\n"
   ]
  },
  {
   "cell_type": "code",
   "execution_count": null,
   "metadata": {},
   "outputs": [],
   "source": []
  }
 ],
 "metadata": {
  "kernelspec": {
   "display_name": "Python 3",
   "language": "python",
   "name": "python3"
  },
  "language_info": {
   "codemirror_mode": {
    "name": "ipython",
    "version": 3
   },
   "file_extension": ".py",
   "mimetype": "text/x-python",
   "name": "python",
   "nbconvert_exporter": "python",
   "pygments_lexer": "ipython3",
   "version": "3.8.5"
  }
 },
 "nbformat": 4,
 "nbformat_minor": 4
}
