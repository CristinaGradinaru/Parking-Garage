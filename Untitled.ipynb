{
 "cells": [
  {
   "cell_type": "code",
   "execution_count": 3,
   "metadata": {},
   "outputs": [
    {
     "name": "stdout",
     "output_type": "stream",
     "text": [
      "am i working?\n"
     ]
    },
    {
     "ename": "UnboundLocalError",
     "evalue": "local variable 'garage' referenced before assignment",
     "output_type": "error",
     "traceback": [
      "\u001b[0;31m---------------------------------------------------------------------------\u001b[0m",
      "\u001b[0;31mUnboundLocalError\u001b[0m                         Traceback (most recent call last)",
      "\u001b[0;32m<ipython-input-3-f7edc440e0db>\u001b[0m in \u001b[0;36m<module>\u001b[0;34m\u001b[0m\n\u001b[1;32m     47\u001b[0m \u001b[0;34m\u001b[0m\u001b[0m\n\u001b[1;32m     48\u001b[0m \u001b[0;34m\u001b[0m\u001b[0m\n\u001b[0;32m---> 49\u001b[0;31m \u001b[0;32mclass\u001b[0m \u001b[0mmain\u001b[0m\u001b[0;34m:\u001b[0m\u001b[0;34m\u001b[0m\u001b[0;34m\u001b[0m\u001b[0m\n\u001b[0m\u001b[1;32m     50\u001b[0m     \u001b[0mprint\u001b[0m\u001b[0;34m(\u001b[0m\u001b[0;34m\"am i working?\"\u001b[0m\u001b[0;34m)\u001b[0m\u001b[0;34m\u001b[0m\u001b[0;34m\u001b[0m\u001b[0m\n\u001b[1;32m     51\u001b[0m     \u001b[0;32mdef\u001b[0m \u001b[0mrun\u001b[0m\u001b[0;34m(\u001b[0m\u001b[0mself\u001b[0m\u001b[0;34m)\u001b[0m\u001b[0;34m:\u001b[0m\u001b[0;34m\u001b[0m\u001b[0;34m\u001b[0m\u001b[0m\n",
      "\u001b[0;32m<ipython-input-3-f7edc440e0db>\u001b[0m in \u001b[0;36mmain\u001b[0;34m()\u001b[0m\n\u001b[1;32m     70\u001b[0m             \u001b[0muser_input\u001b[0m \u001b[0;34m=\u001b[0m \u001b[0;32mTrue\u001b[0m\u001b[0;34m\u001b[0m\u001b[0;34m\u001b[0m\u001b[0m\n\u001b[1;32m     71\u001b[0m \u001b[0;34m\u001b[0m\u001b[0m\n\u001b[0;32m---> 72\u001b[0;31m     \u001b[0mrun\u001b[0m\u001b[0;34m(\u001b[0m\u001b[0;34m\"ticket\"\u001b[0m\u001b[0;34m)\u001b[0m\u001b[0;34m\u001b[0m\u001b[0;34m\u001b[0m\u001b[0m\n\u001b[0m\u001b[1;32m     73\u001b[0m \u001b[0;34m\u001b[0m\u001b[0m\n\u001b[1;32m     74\u001b[0m \u001b[0mmain\u001b[0m\u001b[0;34m(\u001b[0m\u001b[0;34m)\u001b[0m\u001b[0;34m\u001b[0m\u001b[0;34m\u001b[0m\u001b[0m\n",
      "\u001b[0;32m<ipython-input-3-f7edc440e0db>\u001b[0m in \u001b[0;36mrun\u001b[0;34m(self)\u001b[0m\n\u001b[1;32m     50\u001b[0m     \u001b[0mprint\u001b[0m\u001b[0;34m(\u001b[0m\u001b[0;34m\"am i working?\"\u001b[0m\u001b[0;34m)\u001b[0m\u001b[0;34m\u001b[0m\u001b[0;34m\u001b[0m\u001b[0m\n\u001b[1;32m     51\u001b[0m     \u001b[0;32mdef\u001b[0m \u001b[0mrun\u001b[0m\u001b[0;34m(\u001b[0m\u001b[0mself\u001b[0m\u001b[0;34m)\u001b[0m\u001b[0;34m:\u001b[0m\u001b[0;34m\u001b[0m\u001b[0;34m\u001b[0m\u001b[0m\n\u001b[0;32m---> 52\u001b[0;31m         \u001b[0mmygarage\u001b[0m \u001b[0;34m=\u001b[0m \u001b[0mgarage\u001b[0m\u001b[0;34m(\u001b[0m\u001b[0;34m)\u001b[0m\u001b[0;34m\u001b[0m\u001b[0;34m\u001b[0m\u001b[0m\n\u001b[0m\u001b[1;32m     53\u001b[0m         \u001b[0;32mwhile\u001b[0m \u001b[0;32mTrue\u001b[0m\u001b[0;34m:\u001b[0m\u001b[0;34m\u001b[0m\u001b[0;34m\u001b[0m\u001b[0m\n\u001b[1;32m     54\u001b[0m \u001b[0;34m\u001b[0m\u001b[0m\n",
      "\u001b[0;31mUnboundLocalError\u001b[0m: local variable 'garage' referenced before assignment"
     ]
    }
   ],
   "source": [
    "#class for all things tickets\n",
    "class ticket:\n",
    "    def __init__(self):   \n",
    "        self.ticket = [1, 2, 3, 4, 5, 6, 7, 8, 9, 10]\n",
    "        \n",
    "    currentTicket = {'Paid' : True, 'Unpaid' : False}\n",
    "    pass\n",
    "\n",
    "\n",
    "#class for all things parking\n",
    "class parking:\n",
    "    def __init__(self):\n",
    "        self.spaces = [1, 2, 3, 4, 5, 6, 7, 8, 9, 10]\n",
    "        return self.spaces\n",
    "    pass\n",
    "\n",
    "\n",
    "class garage:\n",
    "    def __init__(self):\n",
    "        pass\n",
    "    def takeTicket(self, ticket, spaces):\n",
    "        #decrease the tickets available by 1\n",
    "        ticket = ticket()\n",
    "        for i in range(len(ticket)):\n",
    "            del ticket[0]\n",
    "            return f'Your ticket is ticket {ticket[0]}! Please park safely!'\n",
    "\n",
    "        #decrease the amount of spaces available by 1\n",
    "        pass\n",
    "\n",
    "    #should update currentTicket dictionary\n",
    "    def payForParking(self, user_input):\n",
    "        self.user_input = 6\n",
    "        if user_input == True:\n",
    "            print('Your ticket has been paid! Please leave within 15 minutes')\n",
    "            #???\n",
    "        pass\n",
    "\n",
    "    def leaveGarage(self):\n",
    "    #if ticket paid in full or currentTicket is true(must call ticket)\n",
    "        if currentTicket == True:\n",
    "            print (\"Thank you, have nice day!\")\n",
    "        else:\n",
    "            payForParking()\n",
    "            #increase by one\n",
    "        pass\n",
    "\n",
    "\n",
    "class main:\n",
    "    print(\"am i working?\")\n",
    "    def run(self):\n",
    "        mygarage = garage()\n",
    "        while True:\n",
    "\n",
    "            choice = input(\"Would you like to get a ticket, pay, or leave?\").lower()\n",
    "            \n",
    "            if choice == \"ticket\":\n",
    "                mygarage.takeTicket()\n",
    "\n",
    "            elif choice == \"pay\":\n",
    "                pass\n",
    "            elif choice == \"leave\":\n",
    "                pass\n",
    "            else:\n",
    "                \"invalid responce\"\n",
    "            clear_output()\n",
    "            ticket = ticket()\n",
    "            parking = parking()\n",
    "            garage = garage()\n",
    "            user_input = True\n",
    "            \n",
    "    run(\"ticket\")\n",
    "\n",
    "main()\n"
   ]
  },
  {
   "cell_type": "code",
   "execution_count": null,
   "metadata": {},
   "outputs": [],
   "source": []
  }
 ],
 "metadata": {
  "kernelspec": {
   "display_name": "Python 3",
   "language": "python",
   "name": "python3"
  },
  "language_info": {
   "codemirror_mode": {
    "name": "ipython",
    "version": 3
   },
   "file_extension": ".py",
   "mimetype": "text/x-python",
   "name": "python",
   "nbconvert_exporter": "python",
   "pygments_lexer": "ipython3",
   "version": "3.8.5"
  }
 },
 "nbformat": 4,
 "nbformat_minor": 4
}
